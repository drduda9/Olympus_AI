{
 "cells": [
  {
   "cell_type": "code",
   "execution_count": 1,
   "metadata": {},
   "outputs": [],
   "source": [
    "#import time\n",
    "#from selenium \n",
    "#import webdriver\n",
    "\n",
    "#USERNAME = '' # Your username\n",
    "#PASSWORD = '' # Your password\n",
    "#CHROMEDRIVER_PATH = '' # Insert the path of chromedriver (to be downloaded from \"https://sites.google.com/a/chromium.org/chromedriver/downloads\")\n",
    "\n",
    "#driver = webdriver.Chrome(executable_path=CHROMEDRIVER_PATH)  \n",
    "\n",
    "#driver.get('https://footystats.org/login');\n",
    "\n",
    "\n",
    "#time.sleep(5) # Let the user actually see something!\n",
    "\n",
    "\n",
    "#search_box = driver.find_element_by_name('username')\n",
    "#search_box.send_keys(USERNAME)\n",
    "#search_box = driver.find_element_by_name('password')\n",
    "\n",
    "#search_box.send_keys(PASSWORD)\n",
    "\n",
    "\n",
    "\n",
    "#driver.find_element_by_id('register_account').submit()\n",
    "\n",
    "#time.sleep(5) # Let the user actually see something!\n",
    "\n",
    "\n",
    "\n",
    "\n",
    "#driver.get('https://footystats.org/c-dl.php?type=matches&comp=4759');  # 20-21 EPL\n",
    "#driver.get('https://footystats.org/c-dl.php?type=matches&comp=6135');  # 21-22 EPL\n",
    "#driver.get('https://footystats.org/c-dl.php?type=matches&comp=7704');  # 22-23 EPL\n",
    "#driver.get('https://footystats.org/c-dl.php?type=teams&comp=7704');  # 22-23 EPL Teams Data\n",
    "\n",
    "#time.sleep(5)\n",
    "\n",
    "\n",
    "#driver.quit()\n",
    "#leagues_df = ['code_2022','code_2021','code_2020','code_2019','code_2018','code_2017','code_2016']\n"
   ]
  },
  {
   "cell_type": "code",
   "execution_count": null,
   "metadata": {},
   "outputs": [],
   "source": [
    "\n"
   ]
  },
  {
   "cell_type": "code",
   "execution_count": null,
   "metadata": {},
   "outputs": [],
   "source": []
  },
  {
   "cell_type": "code",
   "execution_count": null,
   "metadata": {},
   "outputs": [],
   "source": []
  },
  {
   "cell_type": "code",
   "execution_count": null,
   "metadata": {},
   "outputs": [],
   "source": []
  },
  {
   "cell_type": "code",
   "execution_count": 2,
   "metadata": {},
   "outputs": [],
   "source": [
    "import urllib\n",
    "import requests\n",
    "import json\n",
    "import bs4\n",
    "from bs4 import BeautifulSoup\n",
    "import numpy \n",
    "import pandas as pd"
   ]
  },
  {
   "cell_type": "code",
   "execution_count": null,
   "metadata": {},
   "outputs": [],
   "source": []
  },
  {
   "cell_type": "code",
   "execution_count": null,
   "metadata": {},
   "outputs": [],
   "source": []
  },
  {
   "cell_type": "code",
   "execution_count": 3,
   "metadata": {},
   "outputs": [],
   "source": [
    "#leagues = requests.get(\"https://api.football-data-api.com/league-list?key=3d4196186c49f230782056bf50523fab7fb5015666d50c9a0b3b6b7792843685\")\n",
    "#print(leagues.json())\n",
    "#parsed = leagues.json()"
   ]
  },
  {
   "cell_type": "code",
   "execution_count": 4,
   "metadata": {},
   "outputs": [],
   "source": [
    "#url = \"https://api.football-data-api.com/league-list?key=3d4196186c49f230782056bf50523fab7fb5015666d50c9a0b3b6b7792843685\"\n",
    "#matches = json.loads(url.read().decode())"
   ]
  },
  {
   "cell_type": "code",
   "execution_count": 5,
   "metadata": {},
   "outputs": [],
   "source": [
    "#link = \"https://api.football-data-api.com/league-list?key=3d4196186c49f230782056bf50523fab7fb5015666d50c9a0b3b6b7792843685\"\n",
    "#with urllib.request.urlopen(link) as url:\n",
    "#    league = json.loads(url.read().decode())"
   ]
  },
  {
   "cell_type": "code",
   "execution_count": null,
   "metadata": {},
   "outputs": [],
   "source": []
  },
  {
   "cell_type": "code",
   "execution_count": 6,
   "metadata": {},
   "outputs": [],
   "source": [
    "#leagues = pd.DataFrame.from_dict(league[\"data\"])\n",
    "#print(leagues.season[1])\n",
    "#df = leagues"
   ]
  },
  {
   "cell_type": "code",
   "execution_count": 7,
   "metadata": {},
   "outputs": [],
   "source": [
    "#df = pd.concat([df.drop(['season'], axis=1), df['season'].apply(pd.Series)], axis=1)\n",
    "#df.head()"
   ]
  },
  {
   "cell_type": "code",
   "execution_count": 8,
   "metadata": {},
   "outputs": [],
   "source": [
    "#df[0].str.split(\",\", expand=True)\n",
    "#df.head()"
   ]
  },
  {
   "cell_type": "code",
   "execution_count": 9,
   "metadata": {},
   "outputs": [],
   "source": [
    "#country_league = pd.read_csv('Country - League List.csv', encoding= 'unicode_escape')\n",
    "#print(country_league.to_string())"
   ]
  },
  {
   "cell_type": "code",
   "execution_count": 10,
   "metadata": {},
   "outputs": [],
   "source": [
    "#df.to_csv('footystats_leagues_master.csv', sep='\\t', encoding='utf-8')"
   ]
  },
  {
   "cell_type": "code",
   "execution_count": 11,
   "metadata": {},
   "outputs": [],
   "source": [
    "#df.head()\n",
    "#leagues_df = list() #stores responses for league data\n",
    "#years = ['2023','2022','2021','2020','2019','2018','2017']"
   ]
  },
  {
   "cell_type": "code",
   "execution_count": 12,
   "metadata": {},
   "outputs": [],
   "source": [
    "#league_ids = pd.read_excel('League_IDs_CurrentSeason.xlsx')\n",
    "#league_ids.head()"
   ]
  },
  {
   "cell_type": "code",
   "execution_count": 13,
   "metadata": {},
   "outputs": [],
   "source": [
    "#code = league_ids['Current_Season_ID']\n"
   ]
  },
  {
   "cell_type": "code",
   "execution_count": 14,
   "metadata": {},
   "outputs": [],
   "source": [
    "#print(code)"
   ]
  },
  {
   "cell_type": "code",
   "execution_count": 15,
   "metadata": {},
   "outputs": [],
   "source": [
    "#EPL_link_leagues = \"https://api.football-data-api.com/league-tables?key=3d4196186c49f230782056bf50523fab7fb5015666d50c9a0b3b6b7792843685&league_id=7704\"\n",
    "#with urllib.request.urlopen(EPL_link_leagues) as url:\n",
    "#    EPL_league_table = json.loads(url.read().decode())\n",
    "    "
   ]
  },
  {
   "cell_type": "code",
   "execution_count": null,
   "metadata": {},
   "outputs": [],
   "source": []
  },
  {
   "cell_type": "code",
   "execution_count": 16,
   "metadata": {},
   "outputs": [
    {
     "name": "stdout",
     "output_type": "stream",
     "text": [
      "dict_keys(['success', 'pager', 'metadata', 'data', 'message'])\n"
     ]
    }
   ],
   "source": [
    "#loop test \n",
    "raw_data = pd.DataFrame([])\n",
    "responses = list() # stores responses for match data\n",
    "#codes = code\n",
    "\n",
    "rr = requests.get('https://api.football-data-api.com/league-teams?key=3d4196186c49f230782056bf50523fab7fb5015666d50c9a0b3b6b7792843685&season_id=7704&include=stats')\n",
    "# Check keys of response\n",
    "print(rr.json().keys())\n",
    "\n",
    "#data = rr.json()\n",
    "#df_temp = pd.DataFrame.from_dict(data['data']) \n",
    "#raw_data = raw_data.append(df_temp,ignore_index=True,sort=False) \n"
   ]
  },
  {
   "cell_type": "code",
   "execution_count": 17,
   "metadata": {},
   "outputs": [],
   "source": [
    "# Create dictionary of results for 'leagues' key\n",
    "leagues_dict = rr.json()['data']\n",
    "data = json.dumps(leagues_dict)\n",
    "data = json.loads(data)\n",
    "with open('eng.json', 'w') as f:\n",
    "    json.dump(data, f)"
   ]
  },
  {
   "cell_type": "code",
   "execution_count": 18,
   "metadata": {},
   "outputs": [],
   "source": [
    "# Visualize df for all English Premier league seasons available\n",
    "#eng_leagues_df = pd.DataFrame.from_dict(leagues_dict)\n",
    "#eng_leagues_df.head()"
   ]
  },
  {
   "cell_type": "code",
   "execution_count": 19,
   "metadata": {},
   "outputs": [],
   "source": [
    "#df1 = pd.DataFrame(df5['data'])\n",
    "#df1.head()\n",
    "#df1 = eng_leagues_df"
   ]
  },
  {
   "cell_type": "code",
   "execution_count": 20,
   "metadata": {},
   "outputs": [],
   "source": [
    "#all_matches = pd.DataFrame({'col1' : responses})\n",
    "#df1.to_csv('england-premier-league-teams-2022-to-2023-stats.csv', sep='\\t', encoding='utf-8')\n",
    "#df = all_matches\n",
    "#df1.head()"
   ]
  },
  {
   "cell_type": "code",
   "execution_count": null,
   "metadata": {},
   "outputs": [],
   "source": []
  },
  {
   "cell_type": "code",
   "execution_count": null,
   "metadata": {},
   "outputs": [],
   "source": []
  },
  {
   "cell_type": "code",
   "execution_count": null,
   "metadata": {},
   "outputs": [],
   "source": []
  },
  {
   "cell_type": "code",
   "execution_count": null,
   "metadata": {},
   "outputs": [],
   "source": []
  },
  {
   "cell_type": "code",
   "execution_count": 21,
   "metadata": {},
   "outputs": [
    {
     "name": "stdout",
     "output_type": "stream",
     "text": [
      "dict_keys(['success', 'pager', 'metadata', 'data', 'message'])\n"
     ]
    }
   ],
   "source": [
    "#loop test \n",
    "raw_data = pd.DataFrame([])\n",
    "responses = list() # stores responses for match data\n",
    "#codes = code\n",
    "\n",
    "rr = requests.get('https://api.football-data-api.com/league-teams?key=3d4196186c49f230782056bf50523fab7fb5015666d50c9a0b3b6b7792843685&season_id=7500&include=stats')\n",
    "# Check keys of response\n",
    "print(rr.json().keys())\n",
    "\n",
    "#data = rr.json()\n",
    "#df_temp = pd.DataFrame.from_dict(data['data']) \n",
    "#raw_data = raw_data.append(df_temp,ignore_index=True,sort=False) \n"
   ]
  },
  {
   "cell_type": "code",
   "execution_count": 22,
   "metadata": {},
   "outputs": [],
   "source": [
    "# Create dictionary of results for 'leagues' key\n",
    "leagues_dict = rr.json()['data']\n",
    "data = json.dumps(leagues_dict)\n",
    "data = json.loads(data)\n",
    "with open('fra.json', 'w') as f:\n",
    "    json.dump(data, f)"
   ]
  },
  {
   "cell_type": "code",
   "execution_count": 23,
   "metadata": {},
   "outputs": [],
   "source": [
    "# Visualize df for all English Premier league seasons available\n",
    "#fra_leagues_df = pd.DataFrame.from_dict(leagues_dict)\n",
    "#fra_leagues_df.head()"
   ]
  },
  {
   "cell_type": "code",
   "execution_count": 24,
   "metadata": {},
   "outputs": [],
   "source": [
    "#df1 = pd.DataFrame(df5['data'])\n",
    "#df1.head()\n",
    "#df1 = fra_leagues_df"
   ]
  },
  {
   "cell_type": "code",
   "execution_count": 25,
   "metadata": {},
   "outputs": [],
   "source": [
    "#all_matches = pd.DataFrame({'col1' : responses})\n",
    "#df1.to_csv('france-ligue1-league-teams-2022-to-2023-stats.csv', sep='\\t', encoding='utf-8')\n",
    "#df = all_matches\n",
    "#df1.head()"
   ]
  },
  {
   "cell_type": "code",
   "execution_count": null,
   "metadata": {},
   "outputs": [],
   "source": []
  },
  {
   "cell_type": "code",
   "execution_count": null,
   "metadata": {},
   "outputs": [],
   "source": []
  },
  {
   "cell_type": "code",
   "execution_count": 26,
   "metadata": {},
   "outputs": [
    {
     "name": "stdout",
     "output_type": "stream",
     "text": [
      "dict_keys(['success', 'pager', 'metadata', 'data', 'message'])\n"
     ]
    }
   ],
   "source": [
    "#loop test \n",
    "raw_data = pd.DataFrame([])\n",
    "responses = list() # stores responses for match data\n",
    "#codes = code\n",
    "\n",
    "rr = requests.get('https://api.football-data-api.com/league-teams?key=3d4196186c49f230782056bf50523fab7fb5015666d50c9a0b3b6b7792843685&season_id=7664&include=stats')\n",
    "# Check keys of response\n",
    "print(rr.json().keys())\n",
    "\n",
    "#data = rr.json()\n",
    "#df_temp = pd.DataFrame.from_dict(data['data']) \n",
    "#raw_data = raw_data.append(df_temp,ignore_index=True,sort=False) \n"
   ]
  },
  {
   "cell_type": "code",
   "execution_count": 27,
   "metadata": {},
   "outputs": [],
   "source": [
    "# Create dictionary of results for 'leagues' key\n",
    "leagues_dict = rr.json()['data']\n",
    "data = json.dumps(leagues_dict)\n",
    "data = json.loads(data)\n",
    "with open('ger.json', 'w') as f:\n",
    "    json.dump(data, f)"
   ]
  },
  {
   "cell_type": "code",
   "execution_count": 28,
   "metadata": {},
   "outputs": [],
   "source": [
    "# Visualize df for all English Premier league seasons available\n",
    "#ger_leagues_df = pd.DataFrame.from_dict(leagues_dict)\n",
    "#ger_leagues_df.head()"
   ]
  },
  {
   "cell_type": "code",
   "execution_count": 29,
   "metadata": {},
   "outputs": [],
   "source": [
    "#df1 = pd.DataFrame(df5['data'])\n",
    "#df1.head()\n",
    "#df1 = ger_leagues_df"
   ]
  },
  {
   "cell_type": "code",
   "execution_count": 30,
   "metadata": {},
   "outputs": [],
   "source": [
    "#all_matches = pd.DataFrame({'col1' : responses})\n",
    "#df1.to_csv('germany-bundesliga-teams-2022-to-2023-stats.csv', sep='\\t', encoding='utf-8')\n",
    "#df = all_matches\n",
    "#df1.head()"
   ]
  },
  {
   "cell_type": "code",
   "execution_count": null,
   "metadata": {},
   "outputs": [],
   "source": []
  },
  {
   "cell_type": "code",
   "execution_count": null,
   "metadata": {},
   "outputs": [],
   "source": []
  },
  {
   "cell_type": "code",
   "execution_count": 31,
   "metadata": {},
   "outputs": [
    {
     "name": "stdout",
     "output_type": "stream",
     "text": [
      "dict_keys(['success', 'pager', 'metadata', 'data', 'message'])\n"
     ]
    }
   ],
   "source": [
    "#loop test \n",
    "raw_data = pd.DataFrame([])\n",
    "responses = list() # stores responses for match data\n",
    "#codes = code\n",
    "\n",
    "rr = requests.get('https://api.football-data-api.com/league-teams?key=3d4196186c49f230782056bf50523fab7fb5015666d50c9a0b3b6b7792843685&season_id=7608&include=stats')\n",
    "# Check keys of response\n",
    "print(rr.json().keys())\n",
    "\n",
    "#data = rr.json()\n",
    "#df_temp = pd.DataFrame.from_dict(data['data']) \n",
    "#raw_data = raw_data.append(df_temp,ignore_index=True,sort=False) \n"
   ]
  },
  {
   "cell_type": "code",
   "execution_count": 32,
   "metadata": {},
   "outputs": [],
   "source": [
    "# Create dictionary of results for 'leagues' key\n",
    "leagues_dict = rr.json()['data']\n",
    "data = json.dumps(leagues_dict)\n",
    "data = json.loads(data)\n",
    "with open('ita.json', 'w') as f:\n",
    "    json.dump(data, f)"
   ]
  },
  {
   "cell_type": "code",
   "execution_count": 33,
   "metadata": {},
   "outputs": [],
   "source": [
    "# Visualize df for all English Premier league seasons available\n",
    "#ita_leagues_df = pd.DataFrame.from_dict(leagues_dict)\n",
    "#ita_leagues_df.head()"
   ]
  },
  {
   "cell_type": "code",
   "execution_count": 34,
   "metadata": {},
   "outputs": [],
   "source": [
    "#df1 = pd.DataFrame(df5['data'])\n",
    "#df1.head()\n",
    "#df1 = ita_leagues_df"
   ]
  },
  {
   "cell_type": "code",
   "execution_count": 35,
   "metadata": {},
   "outputs": [],
   "source": [
    "#all_matches = pd.DataFrame({'col1' : responses})\n",
    "#df1.to_csv('italy-seriea-teams-2022-to-2023-stats.csv', sep='\\t', encoding='utf-8')\n",
    "#df = all_matches\n",
    "#df1.head()"
   ]
  },
  {
   "cell_type": "code",
   "execution_count": null,
   "metadata": {},
   "outputs": [],
   "source": []
  },
  {
   "cell_type": "code",
   "execution_count": null,
   "metadata": {},
   "outputs": [],
   "source": []
  },
  {
   "cell_type": "code",
   "execution_count": 36,
   "metadata": {},
   "outputs": [
    {
     "name": "stdout",
     "output_type": "stream",
     "text": [
      "dict_keys(['success', 'pager', 'metadata', 'data', 'message'])\n"
     ]
    }
   ],
   "source": [
    "#loop test \n",
    "raw_data = pd.DataFrame([])\n",
    "responses = list() # stores responses for match data\n",
    "#codes = code\n",
    "\n",
    "rr = requests.get('https://api.football-data-api.com/league-teams?key=3d4196186c49f230782056bf50523fab7fb5015666d50c9a0b3b6b7792843685&season_id=7665&include=stats')\n",
    "# Check keys of response\n",
    "print(rr.json().keys())\n",
    "\n",
    "#data = rr.json()\n",
    "#df_temp = pd.DataFrame.from_dict(data['data']) \n",
    "#raw_data = raw_data.append(df_temp,ignore_index=True,sort=False) \n"
   ]
  },
  {
   "cell_type": "code",
   "execution_count": 37,
   "metadata": {},
   "outputs": [],
   "source": [
    "# Create dictionary of results for 'leagues' key\n",
    "leagues_dict = rr.json()['data']\n",
    "data = json.dumps(leagues_dict)\n",
    "data = json.loads(data)\n",
    "with open('spa.json', 'w') as f:\n",
    "    json.dump(data, f)"
   ]
  },
  {
   "cell_type": "code",
   "execution_count": 38,
   "metadata": {},
   "outputs": [],
   "source": [
    "# Visualize df for all English Premier league seasons available\n",
    "#spa_leagues_df = pd.DataFrame.from_dict(leagues_dict)\n",
    "#spa_leagues_df.head()"
   ]
  },
  {
   "cell_type": "code",
   "execution_count": 39,
   "metadata": {},
   "outputs": [],
   "source": [
    "#df1 = pd.DataFrame(df5['data'])\n",
    "#df1.head()\n",
    "#df1 = spa_leagues_df"
   ]
  },
  {
   "cell_type": "code",
   "execution_count": 40,
   "metadata": {},
   "outputs": [],
   "source": [
    "#all_matches = pd.DataFrame({'col1' : responses})\n",
    "#df1.to_csv('spain-la-liga-teams-2022-to-2023-stats.csv', sep='\\t', encoding='utf-8')\n",
    "#df = all_matches\n",
    "#df1.head()"
   ]
  },
  {
   "cell_type": "code",
   "execution_count": null,
   "metadata": {},
   "outputs": [],
   "source": []
  },
  {
   "cell_type": "code",
   "execution_count": 41,
   "metadata": {},
   "outputs": [
    {
     "name": "stdout",
     "output_type": "stream",
     "text": [
      "dict_keys(['success', 'pager', 'metadata', 'data', 'message'])\n"
     ]
    }
   ],
   "source": [
    "#loop test \n",
    "raw_data = pd.DataFrame([])\n",
    "responses = list() # stores responses for match data\n",
    "#codes = code\n",
    "\n",
    "rr = requests.get('https://api.football-data-api.com/league-teams?key=3d4196186c49f230782056bf50523fab7fb5015666d50c9a0b3b6b7792843685&season_id=7455&include=stats')\n",
    "# Check keys of response\n",
    "print(rr.json().keys())\n",
    "\n",
    "#data = rr.json()\n",
    "#df_temp = pd.DataFrame.from_dict(data['data']) \n",
    "#raw_data = raw_data.append(df_temp,ignore_index=True,sort=False) \n"
   ]
  },
  {
   "cell_type": "code",
   "execution_count": 42,
   "metadata": {},
   "outputs": [],
   "source": [
    "# Create dictionary of results for 'leagues' key\n",
    "leagues_dict = rr.json()['data']\n",
    "data = json.dumps(leagues_dict)\n",
    "data = json.loads(data)\n",
    "with open('uefa.json', 'w') as f:\n",
    "    json.dump(data, f)"
   ]
  },
  {
   "cell_type": "code",
   "execution_count": null,
   "metadata": {},
   "outputs": [],
   "source": []
  },
  {
   "cell_type": "code",
   "execution_count": null,
   "metadata": {},
   "outputs": [],
   "source": []
  },
  {
   "cell_type": "code",
   "execution_count": 43,
   "metadata": {},
   "outputs": [
    {
     "name": "stdout",
     "output_type": "stream",
     "text": [
      "dict_keys(['success', 'pager', 'metadata', 'data', 'message'])\n"
     ]
    }
   ],
   "source": [
    "#loop test \n",
    "raw_data = pd.DataFrame([])\n",
    "responses = list() # stores responses for match data\n",
    "#codes = code\n",
    "\n",
    "rr = requests.get('https://api.football-data-api.com/league-teams?key=3d4196186c49f230782056bf50523fab7fb5015666d50c9a0b3b6b7792843685&season_id=7768&include=stats')\n",
    "# Check keys of response\n",
    "print(rr.json().keys())\n",
    "\n",
    "#data = rr.json()\n",
    "#df_temp = pd.DataFrame.from_dict(data['data']) \n",
    "#raw_data = raw_data.append(df_temp,ignore_index=True,sort=False) \n"
   ]
  },
  {
   "cell_type": "code",
   "execution_count": 44,
   "metadata": {},
   "outputs": [],
   "source": [
    "# Create dictionary of results for 'leagues' key\n",
    "leagues_dict = rr.json()['data']\n",
    "data = json.dumps(leagues_dict)\n",
    "data = json.loads(data)\n",
    "with open('tur.json', 'w') as f:\n",
    "    json.dump(data, f)"
   ]
  },
  {
   "cell_type": "code",
   "execution_count": null,
   "metadata": {},
   "outputs": [],
   "source": []
  },
  {
   "cell_type": "code",
   "execution_count": null,
   "metadata": {},
   "outputs": [],
   "source": []
  },
  {
   "cell_type": "code",
   "execution_count": 45,
   "metadata": {},
   "outputs": [
    {
     "name": "stdout",
     "output_type": "stream",
     "text": [
      "dict_keys(['success', 'pager', 'metadata', 'data', 'message'])\n"
     ]
    }
   ],
   "source": [
    "#loop test \n",
    "raw_data = pd.DataFrame([])\n",
    "responses = list() # stores responses for match data\n",
    "#codes = code\n",
    "\n",
    "rr = requests.get('https://api.football-data-api.com/league-teams?key=3d4196186c49f230782056bf50523fab7fb5015666d50c9a0b3b6b7792843685&season_id=7593&include=stats')\n",
    "# Check keys of response\n",
    "print(rr.json().keys())\n",
    "\n",
    "#data = rr.json()\n",
    "#df_temp = pd.DataFrame.from_dict(data['data']) \n",
    "#raw_data = raw_data.append(df_temp,ignore_index=True,sort=False) \n"
   ]
  },
  {
   "cell_type": "code",
   "execution_count": 46,
   "metadata": {},
   "outputs": [],
   "source": [
    "# Create dictionary of results for 'leagues' key\n",
    "leagues_dict = rr.json()['data']\n",
    "data = json.dumps(leagues_dict)\n",
    "data = json.loads(data)\n",
    "with open('eng_champ.json', 'w') as f:\n",
    "    json.dump(data, f)"
   ]
  },
  {
   "cell_type": "code",
   "execution_count": null,
   "metadata": {},
   "outputs": [],
   "source": []
  },
  {
   "cell_type": "code",
   "execution_count": null,
   "metadata": {},
   "outputs": [],
   "source": []
  },
  {
   "cell_type": "code",
   "execution_count": 47,
   "metadata": {},
   "outputs": [
    {
     "name": "stdout",
     "output_type": "stream",
     "text": [
      "dict_keys(['success', 'pager', 'metadata', 'data', 'message'])\n"
     ]
    }
   ],
   "source": [
    "#loop test \n",
    "raw_data = pd.DataFrame([])\n",
    "responses = list() # stores responses for match data\n",
    "#codes = code\n",
    "\n",
    "rr = requests.get('https://api.football-data-api.com/league-teams?key=3d4196186c49f230782056bf50523fab7fb5015666d50c9a0b3b6b7792843685&season_id=7985&include=stats')\n",
    "# Check keys of response\n",
    "print(rr.json().keys())\n",
    "\n",
    "#data = rr.json()\n",
    "#df_temp = pd.DataFrame.from_dict(data['data']) \n",
    "#raw_data = raw_data.append(df_temp,ignore_index=True,sort=False) \n"
   ]
  },
  {
   "cell_type": "code",
   "execution_count": 48,
   "metadata": {},
   "outputs": [],
   "source": [
    "# Create dictionary of results for 'leagues' key\n",
    "leagues_dict = rr.json()['data']\n",
    "data = json.dumps(leagues_dict)\n",
    "data = json.loads(data)\n",
    "with open('europa.json', 'w') as f:\n",
    "    json.dump(data, f)"
   ]
  },
  {
   "cell_type": "code",
   "execution_count": null,
   "metadata": {},
   "outputs": [],
   "source": []
  },
  {
   "cell_type": "code",
   "execution_count": null,
   "metadata": {},
   "outputs": [],
   "source": []
  },
  {
   "cell_type": "code",
   "execution_count": 49,
   "metadata": {},
   "outputs": [
    {
     "name": "stdout",
     "output_type": "stream",
     "text": [
      "dict_keys(['success', 'pager', 'metadata', 'data', 'message'])\n"
     ]
    }
   ],
   "source": [
    "#loop test \n",
    "raw_data = pd.DataFrame([])\n",
    "responses = list() # stores responses for match data\n",
    "#codes = code\n",
    "\n",
    "rr = requests.get('https://api.football-data-api.com/league-teams?key=3d4196186c49f230782056bf50523fab7fb5015666d50c9a0b3b6b7792843685&season_id=7339&include=stats')\n",
    "# Check keys of response\n",
    "print(rr.json().keys())\n",
    "\n",
    "#data = rr.json()\n",
    "#df_temp = pd.DataFrame.from_dict(data['data']) \n",
    "#raw_data = raw_data.append(df_temp,ignore_index=True,sort=False) \n"
   ]
  },
  {
   "cell_type": "code",
   "execution_count": 50,
   "metadata": {},
   "outputs": [],
   "source": [
    "# Create dictionary of results for 'leagues' key\n",
    "leagues_dict = rr.json()['data']\n",
    "data = json.dumps(leagues_dict)\n",
    "data = json.loads(data)\n",
    "with open('nations.json', 'w') as f:\n",
    "    json.dump(data, f)"
   ]
  },
  {
   "cell_type": "code",
   "execution_count": null,
   "metadata": {},
   "outputs": [],
   "source": []
  },
  {
   "cell_type": "code",
   "execution_count": null,
   "metadata": {},
   "outputs": [],
   "source": []
  },
  {
   "cell_type": "code",
   "execution_count": 51,
   "metadata": {},
   "outputs": [
    {
     "name": "stdout",
     "output_type": "stream",
     "text": [
      "dict_keys(['success', 'pager', 'metadata', 'data', 'message'])\n"
     ]
    }
   ],
   "source": [
    "#loop test \n",
    "raw_data = pd.DataFrame([])\n",
    "responses = list() # stores responses for match data\n",
    "#codes = code\n",
    "\n",
    "rr = requests.get('https://api.football-data-api.com/league-teams?key=3d4196186c49f230782056bf50523fab7fb5015666d50c9a0b3b6b7792843685&season_id=7432&include=stats')\n",
    "# Check keys of response\n",
    "print(rr.json().keys())\n",
    "\n",
    "#data = rr.json()\n",
    "#df_temp = pd.DataFrame.from_dict(data['data']) \n",
    "#raw_data = raw_data.append(df_temp,ignore_index=True,sort=False) \n"
   ]
  },
  {
   "cell_type": "code",
   "execution_count": 52,
   "metadata": {},
   "outputs": [],
   "source": [
    "# Create dictionary of results for 'leagues' key\n",
    "leagues_dict = rr.json()['data']\n",
    "data = json.dumps(leagues_dict)\n",
    "data = json.loads(data)\n",
    "with open('worldcup.json', 'w') as f:\n",
    "    json.dump(data, f)"
   ]
  },
  {
   "cell_type": "code",
   "execution_count": null,
   "metadata": {},
   "outputs": [],
   "source": []
  },
  {
   "cell_type": "code",
   "execution_count": null,
   "metadata": {},
   "outputs": [],
   "source": []
  },
  {
   "cell_type": "code",
   "execution_count": 53,
   "metadata": {},
   "outputs": [
    {
     "name": "stdout",
     "output_type": "stream",
     "text": [
      "dict_keys(['success', 'pager', 'metadata', 'data', 'message'])\n"
     ]
    }
   ],
   "source": [
    "#loop test \n",
    "raw_data = pd.DataFrame([])\n",
    "responses = list() # stores responses for match data\n",
    "#codes = code\n",
    "\n",
    "rr = requests.get('https://api.football-data-api.com/league-teams?key=3d4196186c49f230782056bf50523fab7fb5015666d50c9a0b3b6b7792843685&season_id=5678&include=stats')\n",
    "# Check keys of response\n",
    "print(rr.json().keys())\n",
    "\n",
    "#data = rr.json()\n",
    "#df_temp = pd.DataFrame.from_dict(data['data']) \n",
    "#raw_data = raw_data.append(df_temp,ignore_index=True,sort=False) \n"
   ]
  },
  {
   "cell_type": "code",
   "execution_count": 54,
   "metadata": {},
   "outputs": [],
   "source": [
    "# Create dictionary of results for 'leagues' key\n",
    "leagues_dict = rr.json()['data']\n",
    "data = json.dumps(leagues_dict)\n",
    "data = json.loads(data)\n",
    "with open('worldcup_qual_europe.json', 'w') as f:\n",
    "    json.dump(data, f)"
   ]
  }
 ],
 "metadata": {
  "kernelspec": {
   "display_name": "Python 3 (ipykernel)",
   "language": "python",
   "name": "python3"
  },
  "language_info": {
   "codemirror_mode": {
    "name": "ipython",
    "version": 3
   },
   "file_extension": ".py",
   "mimetype": "text/x-python",
   "name": "python",
   "nbconvert_exporter": "python",
   "pygments_lexer": "ipython3",
   "version": "3.10.9"
  }
 },
 "nbformat": 4,
 "nbformat_minor": 4
}
